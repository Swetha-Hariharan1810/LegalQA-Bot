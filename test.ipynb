if group_blocks:
            # Identify where a new block starts by marking the first occurrence of 'HEADER' and changes in 'block_type'
            df['new_block'] = df['block_type'].str.contains('HEADER') & ~df['block_type'].str.contains('HEADER').shift(fill_value=False)
            # Calculate the block_num using the cumulative sum of the new_block flag
            df['block_num'] = df['new_block'].cumsum() + 1
            # Drop the helper column
            df.drop(columns=['new_block'], inplace=True)
